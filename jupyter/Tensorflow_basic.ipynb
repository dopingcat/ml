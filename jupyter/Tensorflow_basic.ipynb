{
 "cells": [
  {
   "cell_type": "code",
   "execution_count": 2,
   "metadata": {},
   "outputs": [
    {
     "data": {
      "application/javascript": [
       "IPython.notebook.set_autosave_interval(1000)"
      ]
     },
     "metadata": {},
     "output_type": "display_data"
    },
    {
     "name": "stdout",
     "output_type": "stream",
     "text": [
      "Autosaving every 1 seconds\n"
     ]
    }
   ],
   "source": [
    "%autosave 1\n",
    "%matplotlib inline\n",
    "import urllib.request as req\n",
    "import matplotlib.pyplot as plt\n",
    "import numpy as np\n",
    "import pandas as pd\n",
    "import tensorflow as tf\n",
    "import random, re\n",
    "from sklearn import svm, metrics\n",
    "from sklearn.model_selection import train_test_split\n",
    "from sklearn.ensemble import RandomForestClassifier"
   ]
  },
  {
   "cell_type": "code",
   "execution_count": 3,
   "metadata": {},
   "outputs": [
    {
     "name": "stdout",
     "output_type": "stream",
     "text": [
      "[10 20 30 40 50]\n",
      "[100 200]\n"
     ]
    }
   ],
   "source": [
    "# Tensorflow Placeholder\n",
    "\n",
    "a = tf.placeholder(tf.int32, [None])     # 정수 자료형 3개 배열\n",
    "b = tf.constant(10);\n",
    "x10_op = a * b;    # 배열의 모든 값을 10개 하는 연산의 정의\n",
    "\n",
    "sess = tf.Session()\n",
    "\n",
    "r1 = sess.run(x10_op, feed_dict={a:[1,2,3,4,5]})\n",
    "print(r1)\n",
    "r2 = sess.run(x10_op, feed_dict={a:[10,20]})\n",
    "print(r2)"
   ]
  },
  {
   "cell_type": "code",
   "execution_count": 11,
   "metadata": {},
   "outputs": [
    {
     "name": "stdout",
     "output_type": "stream",
     "text": [
      "ok {'thin': 6413, 'normal': 5998, 'fat': 7589}\n"
     ]
    }
   ],
   "source": [
    "# bmi.csv 생성 코드\n",
    "\n",
    "def calc_bmi(h, w):\n",
    "    bmi = w / (h/100) ** 2\n",
    "    if bmi < 18.5: return \"thin\"\n",
    "    if bmi < 25: return \"normal\"\n",
    "    return \"fat\"\n",
    "\n",
    "fp = open(\"bmi.csv\", \"w\", encoding=\"utf-8\")\n",
    "fp.write(\"height,weight,label\\r\\n\")\n",
    "\n",
    "cnt = {\"thin\":0, \"normal\":0, \"fat\":0}\n",
    "for i in range(20000):\n",
    "    h = random.randint(120, 200)\n",
    "    w = random.randint(35, 80)\n",
    "    label = calc_bmi(h, w)\n",
    "    cnt[label] += 1\n",
    "    fp.write(\"{0},{1},{2}\\r\\n\".format(h, w, label))\n",
    "fp.close()\n",
    "print(\"ok\", cnt)"
   ]
  },
  {
   "cell_type": "code",
   "execution_count": 3,
   "metadata": {},
   "outputs": [
    {
     "name": "stdout",
     "output_type": "stream",
     "text": [
      "step= 0 cre= 109.492 acc= 0.3756\n",
      "step= 500 cre= 67.8577 acc= 0.8346\n",
      "step= 1000 cre= 52.653 acc= 0.8894\n",
      "step= 1500 cre= 48.1174 acc= 0.8866\n",
      "step= 2000 cre= 42.2109 acc= 0.9204\n",
      "step= 2500 cre= 43.0748 acc= 0.9408\n",
      "step= 3000 cre= 38.7978 acc= 0.9478\n",
      "score= 0.9506\n"
     ]
    }
   ],
   "source": [
    "csv = pd.read_csv(\"bmi.csv\")\n",
    "\n",
    "#2 데이터 정규화\n",
    "csv[\"height\"] = csv[\"height\"] / 200\n",
    "csv[\"weight\"] = csv[\"weight\"] / 100\n",
    "\n",
    "#3 레이블 -> 배열 (벡터화?)\n",
    "bclass = {\"thin\":[1,0,0], \"normal\":[0,1,0], \"fat\":[0,0,1]}\n",
    "csv[\"label_pat\"] = csv[\"label\"].apply(lambda x : np.array(bclass[x]))\n",
    "\n",
    "#4 테스트 데이터 분류\n",
    "test_csv = csv[15000:20000]\n",
    "test_pat = test_csv[[\"weight\", \"height\"]]\n",
    "test_ans = list(test_csv[\"label_pat\"])\n",
    "\n",
    "#5 데이터 플로우 그래프 구축 및 플레이스 홀더 선언\n",
    "x = tf.placeholder(tf.float32, [None, 2])\n",
    "y_ = tf.placeholder(tf.float32, [None, 3])\n",
    "\n",
    "W = tf.Variable(tf.zeros([2,3]))    #6 가중치\n",
    "b = tf.Variable(tf.zeros([3]))      # 바이어스\n",
    "y = tf.nn.softmax(tf.matmul(x, W) + b)  #7 소프트맥스(Wx+b) 회귀 정의\n",
    "\n",
    "#8 모델 훈련\n",
    "cross_entropy = -tf.reduce_sum(y_ * tf.log(y))\n",
    "optimizer = tf.train.GradientDescentOptimizer(0.005)\n",
    "train = optimizer.minimize(cross_entropy)\n",
    "\n",
    "# 정답률\n",
    "predict = tf.equal(tf.argmax(y,1), tf.argmax(y_,1))\n",
    "accuracy = tf.reduce_mean(tf.cast(predict, tf.float32))\n",
    "\n",
    "# 세션 시작\n",
    "sess = tf.Session()\n",
    "sess.run(tf.global_variables_initializer())\n",
    "\n",
    "# 학습\n",
    "for step in range(3500):\n",
    "    i = (step * 100) % 14000\n",
    "    rows = csv[1+i : 1+i+100]\n",
    "    x_pat = rows[[\"weight\", \"height\"]]\n",
    "    y_ans = list(rows[\"label_pat\"])\n",
    "    fd = {x:x_pat, y_:y_ans}\n",
    "    sess.run(train, feed_dict=fd)\n",
    "    if step % 500 == 0:\n",
    "        cre = sess.run(cross_entropy, feed_dict=fd)\n",
    "        acc = sess.run(accuracy, feed_dict={x:test_pat, y_:test_ans})\n",
    "        print(\"step=\", step, \"cre=\", cre, \"acc=\", acc)\n",
    "    \n",
    "# 최종 정답\n",
    "acc = sess.run(accuracy, feed_dict={x:test_pat, y_:test_ans})\n",
    "print(\"score=\", acc)"
   ]
  },
  {
   "cell_type": "code",
   "execution_count": 4,
   "metadata": {},
   "outputs": [
    {
     "name": "stdout",
     "output_type": "stream",
     "text": [
      "600\n"
     ]
    }
   ],
   "source": [
    "# 시각화?\n",
    "\n",
    "a = tf.constant(20, name=\"a\")\n",
    "b = tf.constant(30, name=\"b\")\n",
    "mul_op = a * b\n",
    "\n",
    "sess = tf.Session()\n",
    "\n",
    "tw = tf.summary.FileWriter(\"log_dir\", graph=sess.graph)\n",
    "\n",
    "print(sess.run(mul_op))\n",
    "summary, _ = sess.run()"
   ]
  },
  {
   "cell_type": "code",
   "execution_count": null,
   "metadata": {
    "collapsed": true
   },
   "outputs": [],
   "source": []
  }
 ],
 "metadata": {
  "kernelspec": {
   "display_name": "Python 3",
   "language": "python",
   "name": "python3"
  },
  "language_info": {
   "codemirror_mode": {
    "name": "ipython",
    "version": 3
   },
   "file_extension": ".py",
   "mimetype": "text/x-python",
   "name": "python",
   "nbconvert_exporter": "python",
   "pygments_lexer": "ipython3",
   "version": "3.6.0"
  }
 },
 "nbformat": 4,
 "nbformat_minor": 2
}
